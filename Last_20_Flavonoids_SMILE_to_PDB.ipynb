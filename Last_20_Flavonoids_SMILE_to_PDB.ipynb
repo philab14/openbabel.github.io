{
  "nbformat": 4,
  "nbformat_minor": 0,
  "metadata": {
    "colab": {
      "provenance": [],
      "include_colab_link": true
    },
    "kernelspec": {
      "name": "python3",
      "display_name": "Python 3"
    },
    "language_info": {
      "name": "python"
    }
  },
  "cells": [
    {
      "cell_type": "markdown",
      "metadata": {
        "id": "view-in-github",
        "colab_type": "text"
      },
      "source": [
        "<a href=\"https://colab.research.google.com/github/philab14/openbabel.github.io/blob/main/Last_20_Flavonoids_SMILE_to_PDB.ipynb\" target=\"_parent\"><img src=\"https://colab.research.google.com/assets/colab-badge.svg\" alt=\"Open In Colab\"/></a>"
      ]
    },
    {
      "cell_type": "code",
      "execution_count": null,
      "metadata": {
        "colab": {
          "base_uri": "https://localhost:8080/"
        },
        "id": "DNICsLGq5vQS",
        "outputId": "e502d463-26c5-4ad3-fb9c-b7fb262db93b"
      },
      "outputs": [
        {
          "output_type": "stream",
          "name": "stdout",
          "text": [
            "Mounted at /content/drive\n"
          ]
        }
      ],
      "source": [
        "from google.colab import drive\n",
        "drive.mount('/content/drive')"
      ]
    },
    {
      "cell_type": "code",
      "source": [
        "!pip install rdkit"
      ],
      "metadata": {
        "colab": {
          "base_uri": "https://localhost:8080/"
        },
        "id": "Ro-lBhhR53ZU",
        "outputId": "863d0220-4a4b-41a9-e7a6-6edfe9068038"
      },
      "execution_count": null,
      "outputs": [
        {
          "output_type": "stream",
          "name": "stdout",
          "text": [
            "Collecting rdkit\n",
            "  Downloading rdkit-2025.3.3-cp311-cp311-manylinux_2_28_x86_64.whl.metadata (4.0 kB)\n",
            "Requirement already satisfied: numpy in /usr/local/lib/python3.11/dist-packages (from rdkit) (2.0.2)\n",
            "Requirement already satisfied: Pillow in /usr/local/lib/python3.11/dist-packages (from rdkit) (11.3.0)\n",
            "Downloading rdkit-2025.3.3-cp311-cp311-manylinux_2_28_x86_64.whl (34.9 MB)\n",
            "\u001b[2K   \u001b[90m━━━━━━━━━━━━━━━━━━━━━━━━━━━━━━━━━━━━━━━━\u001b[0m \u001b[32m34.9/34.9 MB\u001b[0m \u001b[31m53.3 MB/s\u001b[0m eta \u001b[36m0:00:00\u001b[0m\n",
            "\u001b[?25hInstalling collected packages: rdkit\n",
            "Successfully installed rdkit-2025.3.3\n"
          ]
        }
      ]
    },
    {
      "cell_type": "markdown",
      "source": [
        "https://go.drugbank.com/categories/DBCAT001281\n"
      ],
      "metadata": {
        "id": "jmDxe06bJuz_"
      }
    },
    {
      "cell_type": "markdown",
      "source": [
        "Swati"
      ],
      "metadata": {
        "id": "N6IdwwpAJMaL"
      }
    },
    {
      "cell_type": "markdown",
      "source": [
        "1.**Rotenone**"
      ],
      "metadata": {
        "id": "Xxg8qhlaJeBQ"
      }
    },
    {
      "cell_type": "code",
      "source": [
        "# Import libraries\n",
        "from rdkit import Chem\n",
        "from rdkit.Chem import AllChem\n",
        "from rdkit.Chem import PDBWriter\n",
        "\n",
        "# SMILES string of Triphendiol #1\n",
        "smiles = \"[H][C@@]12COC3=C(C=C(OC)C(OC)=C3)[C@]1([H])C(=O)C1=CC=C3O[C@H](CC3=C1O2)C(C)=C\" #2\n",
        "\n",
        "# Convert to RDKit molecule\n",
        "m = Chem.MolFromSmiles(smiles)\n",
        "\n",
        "# Add explicit Hydrogens\n",
        "m = Chem.AddHs(m)\n",
        "\n",
        "# Generate 3D coordinates\n",
        "AllChem.EmbedMolecule(m)\n",
        "\n",
        "# Define file paths in Google Drive\n",
        "mol2_path = '/content/drive/MyDrive/Internship/Flavonoid/Rotenone.mol2' #3\n",
        "pdb_path = '/content/drive/MyDrive/Internship/Flavonoid/Rotenone.pdb'   #4\n",
        "\n",
        "# Save Mol2 file\n",
        "Chem.MolToMolFile(m, mol2_path)\n",
        "\n",
        "# Save PDB file\n",
        "with PDBWriter(pdb_path) as writer:\n",
        "    writer.write(m)\n",
        "\n",
        "print('Files saved successfully to your Google Drive Internship folder.')\n"
      ],
      "metadata": {
        "colab": {
          "base_uri": "https://localhost:8080/"
        },
        "id": "Sqqx_KZB53i1",
        "outputId": "7304c9dd-a86f-4475-bf9e-1f153a8c6632"
      },
      "execution_count": null,
      "outputs": [
        {
          "output_type": "stream",
          "name": "stdout",
          "text": [
            "Files saved successfully to your Google Drive Internship folder.\n"
          ]
        }
      ]
    },
    {
      "cell_type": "markdown",
      "source": [
        "2."
      ],
      "metadata": {
        "id": "ENv4b4C7Jj73"
      }
    },
    {
      "cell_type": "code",
      "source": [],
      "metadata": {
        "id": "FMR-M4W8Jlep"
      },
      "execution_count": null,
      "outputs": []
    },
    {
      "cell_type": "markdown",
      "source": [
        "David"
      ],
      "metadata": {
        "id": "zRz-VwtqJ04w"
      }
    },
    {
      "cell_type": "code",
      "source": [],
      "metadata": {
        "id": "QHv-q5yoJ3oF"
      },
      "execution_count": null,
      "outputs": []
    },
    {
      "cell_type": "markdown",
      "source": [
        "Philip"
      ],
      "metadata": {
        "id": "DTryYrDkJ4FA"
      }
    }
  ]
}